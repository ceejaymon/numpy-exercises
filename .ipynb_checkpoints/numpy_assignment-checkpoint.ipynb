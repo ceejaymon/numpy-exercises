{
 "cells": [
  {
   "cell_type": "code",
   "execution_count": 1,
   "id": "cb61e49e-0650-46c4-838c-c9d7b30c3815",
   "metadata": {},
   "outputs": [],
   "source": [
    "import numpy as np"
   ]
  },
  {
   "cell_type": "code",
   "execution_count": 2,
   "id": "b1a3dc73-d153-4c39-9c44-2a5ceb2e3c53",
   "metadata": {},
   "outputs": [
    {
     "name": "stdout",
     "output_type": "stream",
     "text": [
      "30\n",
      "50\n",
      "[20 30 40]\n"
     ]
    }
   ],
   "source": [
    "#Exercise 1: Indexing\n",
    "#Create a NumPy array named arr with the values [10, 20, 30, 40, 50].\n",
    "data = [10, 20, 30, 40, 50]\n",
    "arr = np.array([10, 20, 30, 40, 50])\n",
    "\n",
    "#Print the element at index 2.\n",
    "print(arr[2])\n",
    "\n",
    "#Print the last element using negative indexing.\n",
    "print(arr[-1])\n",
    "\n",
    "#Print the elements from index 1 to 3 (inclusive).\n",
    "sliced_arr = arr[1:4]\n",
    "print(sliced_arr)"
   ]
  },
  {
   "cell_type": "code",
   "execution_count": null,
   "id": "df41fc59-20fc-4025-beba-2e9683f17dd2",
   "metadata": {},
   "outputs": [],
   "source": []
  },
  {
   "cell_type": "code",
   "execution_count": 6,
   "id": "ff50e26b-8833-4dad-92d1-edfd29c12853",
   "metadata": {},
   "outputs": [
    {
     "name": "stdout",
     "output_type": "stream",
     "text": [
      "2\n",
      "2\n",
      "[1 2 3]\n",
      "[2 5 8]\n"
     ]
    }
   ],
   "source": [
    "#Exercise 2: 2-Dimensional arrays\n",
    "#Create a 2D NumPy array named matrix with the following values:\n",
    "#[[1, 2, 3],\n",
    "# [4, 5, 6],\n",
    "# [7, 8, 9]]\n",
    "\n",
    "matrix = np.array([\n",
    "        [1, 2, 3],\n",
    "        [4, 5, 6],\n",
    "        [7, 8, 9]\n",
    "        ])\n",
    "#Print the element at row 1, column 2.\n",
    "print(matrix[0, 1])\n",
    "print(matrix[0] [1])\n",
    "      \n",
    "#Print the entire first row.\n",
    "print(matrix[0,])\n",
    "\n",
    "#Print the entire second column.\n",
    "print(matrix[:, 1])"
   ]
  },
  {
   "cell_type": "code",
   "execution_count": null,
   "id": "c695b660-9fb5-4fd0-ba5a-eb1584879bf9",
   "metadata": {},
   "outputs": [],
   "source": []
  },
  {
   "cell_type": "code",
   "execution_count": 8,
   "id": "e08a1458-3c39-4a4e-88f4-582623f80d15",
   "metadata": {},
   "outputs": [
    {
     "name": "stdout",
     "output_type": "stream",
     "text": [
      "(2, 3)\n",
      "(6,)\n"
     ]
    }
   ],
   "source": [
    "#Exercise 3: Reshaping\n",
    "#Create a 1D NumPy array named vector with the values [1, 2, 3, 4, 5, 6].\n",
    "vector = np.array([1, 2, 3, 4, 5, 6])\n",
    "\n",
    "#Reshape vector into a 2D array with 2 rows and 3 columns.\n",
    "reshaped_vector = vector.reshape(2, 3)\n",
    "\n",
    "#Print the shape of the reshaped array.\n",
    "print(reshaped_vector.shape)\n",
    "\n",
    "#Reshape the array back to its original 1D shape.\n",
    "original_vector = reshaped_vector.reshape(-1)\n",
    "print(original_vector.shape)"
   ]
  },
  {
   "cell_type": "code",
   "execution_count": null,
   "id": "2dfe2895-b18d-4590-8afa-955be6c8b700",
   "metadata": {},
   "outputs": [],
   "source": []
  },
  {
   "cell_type": "code",
   "execution_count": 12,
   "id": "56c3baba-212e-4f3a-a6eb-c7e9e990e8f7",
   "metadata": {},
   "outputs": [
    {
     "name": "stdout",
     "output_type": "stream",
     "text": [
      " X : [[10 20]\n",
      " [40 50]\n",
      " [70 80]]\n",
      " y : [30 60 90]\n",
      "(3, 2)\n",
      "(3,)\n"
     ]
    }
   ],
   "source": [
    "#Exercise 4: Slicing and Dicing\n",
    "#Create a 2D NumPy array named data with the following values\n",
    "#[[10, 20, 30],\n",
    "# [40, 50, 60],\n",
    "# [70, 80, 90]]\n",
    "\n",
    "data = np.array([\n",
    "        [10, 20, 30],\n",
    "        [40, 50, 60],\n",
    "        [70, 80, 90]\n",
    "        ])\n",
    "\n",
    "#Create a new array X containing all rows and the first two columns of data.\n",
    "X = data[:, :2]\n",
    "#print X\n",
    "print(f\" X : {X}\")\n",
    "\n",
    "#Create a new array y containing all rows and only the last column of data.\n",
    "y = data[:, -1]\n",
    "y = data[:, 2]\n",
    "#print y\n",
    "print(f\" y : {y}\")\n",
    "\n",
    "#Print the shapes of X and y\n",
    "print(X.shape)\n",
    "print(y.shape)"
   ]
  },
  {
   "cell_type": "code",
   "execution_count": null,
   "id": "fb8ae554-023a-400a-8942-246a90d64389",
   "metadata": {},
   "outputs": [],
   "source": []
  }
 ],
 "metadata": {
  "kernelspec": {
   "display_name": "Python 3 (ipykernel)",
   "language": "python",
   "name": "python3"
  },
  "language_info": {
   "codemirror_mode": {
    "name": "ipython",
    "version": 3
   },
   "file_extension": ".py",
   "mimetype": "text/x-python",
   "name": "python",
   "nbconvert_exporter": "python",
   "pygments_lexer": "ipython3",
   "version": "3.12.7"
  }
 },
 "nbformat": 4,
 "nbformat_minor": 5
}
